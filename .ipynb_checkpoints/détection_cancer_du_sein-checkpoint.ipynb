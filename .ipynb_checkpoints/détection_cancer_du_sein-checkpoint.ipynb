{
 "cells": [
  {
   "cell_type": "code",
   "execution_count": 6,
   "id": "50df1f9e-0f10-4520-9310-faae72118074",
   "metadata": {},
   "outputs": [],
   "source": [
    "import numpy as np\n",
    "import matplotlib.pyplot as plt\n",
    "import seaborn as sns\n",
    "from vinzy_imgdata_importer import img_data_importer"
   ]
  },
  {
   "cell_type": "code",
   "execution_count": null,
   "id": "2614207f-f364-4877-af62-320aa8c4769c",
   "metadata": {},
   "outputs": [
    {
     "name": "stdin",
     "output_type": "stream",
     "text": [
      "Do you want to convert your image data to grey scale? y/n:  y\n",
      "Do you want to resize your data? y/n [default:100x100]:  y\n",
      "enter the size:  60\n"
     ]
    },
    {
     "name": "stdout",
     "output_type": "stream",
     "text": [
      "Generating, Shuffling & Mapping the Data...\n"
     ]
    }
   ],
   "source": [
    "X, y, m = img_data_importer(\"C:/Users/Rostaing/Downloads/cancer_de_seins\")"
   ]
  },
  {
   "cell_type": "code",
   "execution_count": null,
   "id": "bba15e80-7ecf-4678-8db7-c6a3aecad5dc",
   "metadata": {},
   "outputs": [],
   "source": []
  }
 ],
 "metadata": {
  "kernelspec": {
   "display_name": "Python 3 (ipykernel)",
   "language": "python",
   "name": "python3"
  },
  "language_info": {
   "codemirror_mode": {
    "name": "ipython",
    "version": 3
   },
   "file_extension": ".py",
   "mimetype": "text/x-python",
   "name": "python",
   "nbconvert_exporter": "python",
   "pygments_lexer": "ipython3",
   "version": "3.11.7"
  }
 },
 "nbformat": 4,
 "nbformat_minor": 5
}
